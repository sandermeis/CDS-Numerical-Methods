{
 "cells": [
  {
   "cell_type": "markdown",
   "metadata": {},
   "source": [
    "# CDS: Numerical Methods - Assignment 5\n",
    "\n",
    "#### See lecture notes and documentation on Brightspace for Python and Jupyter basics. If you are stuck, try to google or get in touch via Discord!\n",
    "\n",
    "- Solutions must be submitted via Brightspace as a Jupyter notebook (\\*.ipynb) before **Wednesday, March 3, 8:30 CET.**\n",
    "\n",
    "### Handing-in:\n",
    "\n",
    "1. Click \"Kernel -> Restart & Run All\"\n",
    "2. Check all outputs (In[\\*] or Out[\\*]) for errors and **resolve them if necessary**\n",
    "3. Click again \"Kernel -> Restart & Run All\"\n",
    "4. Save as assignment_05_TEAM-NUMBER.ipynb by clicking \"File -> Save as ...\"\n",
    "5. Download your assignment_\\*.ipynb file\n",
    "6. Upload it **in time (before the deadline)** to Brightspace"
   ]
  },
  {
   "cell_type": "markdown",
   "metadata": {},
   "source": [
    "## 1. Eigenvalues and Eigenvectors\n",
    "\n",
    "In the following you will implement your own eigenvalue / eigenvector calculation routines based on the inverse power method and the iterated QR decomposition.\n",
    "\n",
    "### Task 1.1\n",
    "We start by implementing the inverse power method, which calculates the eigenvector corresponding to an eigenvalue which is closest to a given parameter $\\sigma$. In detail, you should implement a Python function $\\text{inversePower(A, sigma, eps)}$, which takes as input the $n \\times n$ square matrix $A$, the parameter $\\sigma$, as well as some accuracy $\\varepsilon$. It should return the eigenvector $\\mathbf{v}$ (corresponding to the eigenvalue which is closest to $\\sigma$) and the number of needed iteration steps.\n",
    "\t\n",
    "To do so, implement the following algorithm. Start by setting up the needed input:\n",
    "\n",
    "\\begin{align}\n",
    "    B &= \\left( A - \\sigma \\mathbf{1} \\right)^{-1} \\\\\n",
    "    \\mathbf{b}^{(0)} &= (1,1,1,...)\n",
    "\\end{align}\n",
    "\n",
    "where $\\mathbf{b}_0$ is a vector with $n$ entries. Then repeat the following and increase $k$ each iteration until the error $e$ is smaller than $\\varepsilon$:\n",
    "\n",
    "\\begin{align}\n",
    "    \\mathbf{b}^{(k)} &= B \\cdot \\mathbf{b}^{(k-1)} \\\\\n",
    "    \\mathbf{b}^{(k)} &= \\frac{\\mathbf{b}^{(k)}}{|\\mathbf{b}^{(k)}|} \\\\\n",
    "    e &= \\sqrt{ \\sum_{i=0}^n \\left(|b_i^{(k-1)}| - |b_i^{(k)}|\\right)^2 }\n",
    "\\end{align}\n",
    "\n",
    "Return the last vector $\\mathbf{b}^{(k)}$ and the number of needed iterations $k$. \n",
    "\n",
    "Verify your implementation by calculating all the eigenvectors of the matrix below and comparing them to the ones calculated by $\\text{numpy.linalg.eig()}$. Then implement a unit test for your function.\n",
    "\n",
    "\\begin{align*}\n",
    "    A = \\begin{pmatrix}\n",
    "    3 & 2 & 1\\\\ \n",
    "    2 & 3 & 2\\\\\n",
    "    1 & 2 & 3\n",
    "    \\end{pmatrix}.\n",
    "\\end{align*}"
   ]
  },
  {
   "cell_type": "code",
   "execution_count": 1,
   "metadata": {},
   "outputs": [
    {
     "name": "stdout",
     "output_type": "stream",
     "text": [
      "Found by InversePower:\n",
      "[ 1.         -1.68614066  1.        ]\n",
      "[ 1.0000000e+00  2.9750704e-13 -1.0000000e+00]\n",
      "[1.         1.18614066 1.        ]\n",
      "\n",
      "Found by numpy:\n",
      "[1.         1.18614066 1.        ]\n",
      "[ 1.00000000e+00  1.11179921e-16 -1.00000000e+00]\n",
      "[ 1.         -1.68614066  1.        ]\n"
     ]
    }
   ],
   "source": [
    "import numpy as np\n",
    "\n",
    "def error(a, b):\n",
    "    assert np.shape(a) == np.shape(b), \"Vectors are not the same shape\"\n",
    "    return np.sqrt(np.sum((np.abs(a) - np.abs(b))**2))\n",
    "\n",
    "def inversePower(A, sigma, eps):\n",
    "    assert np.shape(A)[0] == np.shape(A)[1], \"Matrix dimensions don't match\"\n",
    "    B_inv = A - sigma * np.diagflat([1]*np.shape(A)[0])\n",
    "    B = np.linalg.inv(B_inv)\n",
    "    b_k = np.ones(np.shape(A)[0])\n",
    "    b = np.copy(b_k) + 100\n",
    "    k = 0\n",
    "    while error(b, b_k) > eps:\n",
    "        b = np.copy(b_k)\n",
    "        b_k = np.inner(B, b)\n",
    "        b_k = b_k / np.linalg.norm(b_k)\n",
    "        k +=1\n",
    "    return b_k, k\n",
    "        \n",
    "    \n",
    "    \n",
    "    \n",
    "\n",
    "A = np.array([[3,2,1],[2,3,2], [1,2,3]])\n",
    "\n",
    "print(\"Found by InversePower:\")\n",
    "for i in [0.6,2.01,6.3]:\n",
    "    out_new = inversePower(A, i, 10**-10)[0]\n",
    "    print(out_new * 1/out_new[0])\n",
    "print(\"\\nFound by numpy:\")\n",
    "a = np.linalg.eig(A)[1].T\n",
    "for j in a:\n",
    "    print(j/j[0])\n",
    "        \n",
    "\n"
   ]
  },
  {
   "cell_type": "code",
   "execution_count": 2,
   "metadata": {},
   "outputs": [],
   "source": [
    "# load ipytest\n",
    "import ipytest\n",
    "ipytest.autoconfig()"
   ]
  },
  {
   "cell_type": "code",
   "execution_count": 3,
   "metadata": {},
   "outputs": [
    {
     "name": "stdout",
     "output_type": "stream",
     "text": [
      ".                                                                        [100%]\n",
      "1 passed in 0.08s\n"
     ]
    }
   ],
   "source": [
    "%%run_pytest[clean]\n",
    "\n",
    "def test_inversePower():\n",
    "    A = np.array([[3,2,1],[2,3,2], [1,2,3]])\n",
    "    a = np.linalg.eig(A)[1].T\n",
    "    for i,j in enumerate([6.3,2.01,0.6]):\n",
    "        out_new = inversePower(A, j, 10**-10)[0]\n",
    "        assert np.allclose(a[i]/a[i,0], out_new/out_new[0],rtol=1e-9,atol=1e-11, equal_nan=False)\n",
    "    "
   ]
  },
  {
   "cell_type": "markdown",
   "metadata": {},
   "source": [
    "### Task 1.2 \n",
    "\n",
    "Next you will need to implement the tri-diagonalization scheme following Householder. To this end implement a Python function $\\text{tridiagonalize(A)}$ which takes a symmetric matrix $A$ as input and returns a tridiagonal matrix $T$ of the same dimension. Therefore, your algorithm should execute the following steps:\n",
    "\t\n",
    "First use an assertion to make sure $A$ is symmetric. Then let $k$ run from $0$ to $n-1$ and repeat the following:\n",
    "\n",
    "\\begin{align}\n",
    "    q &= \\sqrt{ \\sum_{j=k+1}^n \\left(A_{j,k}\\right)^2 } \\\\\n",
    "    \\alpha &= -\\operatorname{sgn}(A_{k+1,k}) \\cdot q \\\\\n",
    "    r &= \\sqrt{ \\frac{ \\alpha^2 - A_{k+1,k} \\cdot \\alpha }{2} } \\\\\n",
    "    \\mathbf{v} &= \\mathbf{0} \\qquad \\text{... vector of dimension } n \\\\\n",
    "    v_{k+1} &= \\frac{A_{k+1,k} - \\alpha}{2r} \\\\\n",
    "    v_{k+j} &= \\frac{A_{k+j,k}}{2r}  \\quad \\text{for } j=2,3,\\dots,n \\\\\n",
    "    P &= \\mathbf{1} - 2 \\mathbf{v}\\mathbf{v}^T \\\\\n",
    "    A &= P \\cdot A \\cdot P\n",
    "\\end{align}\n",
    "\n",
    "At the end return $A$ as $T$.\n",
    "\n",
    "Apply your routine to the matrix $A$ defined in task 1.1 as well as to a few random (but symmetric) matrices of different dimension $n$.\n",
    "\n",
    "Hint: Use $\\text{np.outer()}$ to calculate the *matrix* $\\mathbf{v}\\mathbf{v}^T$ needed in the definition of the Housholder transformation matrix $P$. "
   ]
  },
  {
   "cell_type": "code",
   "execution_count": 4,
   "metadata": {},
   "outputs": [
    {
     "name": "stdout",
     "output_type": "stream",
     "text": [
      "Original:\n",
      "[[3 2 1]\n",
      " [2 3 2]\n",
      " [1 2 3]] \n",
      "\n",
      "Tridiagonalized:\n",
      "[[ 3.         -2.23606798  0.        ]\n",
      " [-2.23606798  4.6        -1.2       ]\n",
      " [ 0.         -1.2         1.4       ]] \n",
      "\n",
      "Original:\n",
      "[[ 8  2  5  6]\n",
      " [ 2 16  9  4]\n",
      " [ 5  9 10  3]\n",
      " [ 6  4  3 14]] \n",
      "\n",
      "Tridiagonalized:\n",
      "[[ 8.      -8.06226  0.      -0.     ]\n",
      " [-8.06226 19.6     -7.91843  0.     ]\n",
      " [ 0.      -7.91843 11.35898 -4.67282]\n",
      " [-0.       0.      -4.67282  9.04102]] \n",
      "\n",
      "Original:\n",
      "[[12  7  6  3  7]\n",
      " [ 7 18  9  5  9]\n",
      " [ 6  9  4  5  6]\n",
      " [ 3  5  5 18  2]\n",
      " [ 7  9  6  2  4]] \n",
      "\n",
      "Tridiagonalized:\n",
      "[[ 12.      -11.95826   0.        0.       -0.     ]\n",
      " [-11.95826  27.97203  -8.68641  -0.       -0.     ]\n",
      " [  0.       -8.68641   5.42309  -5.21493  -0.     ]\n",
      " [  0.        0.       -5.21493  12.5327    1.74245]\n",
      " [ -0.       -0.       -0.        1.74245  -1.92781]] \n",
      "\n",
      "Original:\n",
      "[[16  1  2  4  6  1]\n",
      " [ 1 18  2  9  2  5]\n",
      " [ 2  2  4  2  5  3]\n",
      " [ 4  9  2 16  3  8]\n",
      " [ 6  2  5  3 16  7]\n",
      " [ 1  5  3  8  7 18]] \n",
      "\n",
      "Tridiagonalized:\n",
      "[[ 16.       -7.61577   0.       -0.       -0.        0.     ]\n",
      " [ -7.61577  25.06897 -12.54147  -0.       -0.        0.     ]\n",
      " [  0.      -12.54147  19.47037  -5.04421   0.       -0.     ]\n",
      " [ -0.        0.       -5.04421  14.72368  -3.01721   0.     ]\n",
      " [ -0.        0.       -0.       -3.01721   9.68846  -2.53311]\n",
      " [  0.        0.        0.        0.       -2.53311   3.04853]] \n",
      "\n"
     ]
    }
   ],
   "source": [
    "def tridiagonalize(A):\n",
    "    assert np.all(A == A.T), \"Matrix is not symmetrical\"\n",
    "    assert np.shape(A)[0] == np.shape(A)[1], \"Array dimensions don't match\"\n",
    "    n = np.shape(A)[0]\n",
    "    \n",
    "    for k in range(n-2):\n",
    "        q = np.sqrt(np.sum(A[k+1:, k]**2))\n",
    "        \n",
    "        alpha = -1* np.sign(A[k+1, k]) * q\n",
    "        r = np.sqrt((alpha**2 - A[k+1,k] * alpha)/2)\n",
    "        v = np.zeros(n)\n",
    "        v[k+1] = (A[k+1, k] - alpha)/(2*r)\n",
    "        v[k+2:] = (A[k+2:, k])/(2*r)\n",
    "        \n",
    "        P = np.diagflat([1]*n)-2*np.outer(v,v.T)\n",
    "        A = np.dot(P, np.dot(A,P))\n",
    "        \n",
    "    return A\n",
    "        \n",
    "    # write your Python code here ...\n",
    "    \n",
    "    \n",
    "    \n",
    "\n",
    "A = np.array([[3,2,1],[2,3,2], [1,2,3]])\n",
    "print('Original:')\n",
    "print(A, '\\n')\n",
    "tri_A = tridiagonalize(A)\n",
    "print('Tridiagonalized:')\n",
    "print(tri_A, '\\n')\n",
    "\n",
    "for n in range(4,7):\n",
    "    A = np.random.randint(1,10, (n,n))\n",
    "    A = np.triu(A) + np.triu(A).T\n",
    "    print('Original:')\n",
    "    print(A, '\\n')\n",
    "    tri_A = tridiagonalize(A)\n",
    "    print('Tridiagonalized:')\n",
    "    print(np.around(tri_A, 5), '\\n')"
   ]
  },
  {
   "cell_type": "markdown",
   "metadata": {},
   "source": [
    "### Task 1.3\n",
    "\n",
    "Implement the $QR$ decomposition based diagonalization routine for tri-diagonal matrices $T$ in Python as a function $\\text{QREig(T, eps)}$. It should take a tri-diagonal matrix $T$ and some accuracy $\\varepsilon$ as inputs and should return all eigenvalues in the form of a vector $\\mathbf{d}$. By making use of the $QR$ decomposition as implemented in Numpy ($\\text{numpy.linalg.qr()}$) the algorithm is very simple and reads:\n",
    "\n",
    "Repeat the following until the error $e$ is smaller than $\\varepsilon$:\n",
    "\n",
    "\\begin{align}\n",
    "    Q \\cdot R &= T^{(k)} \\qquad \\text{... do this decomposition with the help of Numpy!} \\\\\n",
    "    T^{(k+1)} &= R \\cdot Q \\\\\n",
    "    e &= |\\mathbf{d_1}| \n",
    "\\end{align}\n",
    "\n",
    "where $T^{(0)} = T$ and $\\mathbf{d_1}$ is the first sub-diagonal of $T^{(k+1)}$ at each iteration step $k$. At the end return the main-diagonal of $T^{(k+1)}$ as $\\mathbf{d}$. \n",
    "\n",
    "Implement a unit test for your function based on the matrix $A$ defined in task 1.1. You will need to tri-diagonalize it first."
   ]
  },
  {
   "cell_type": "code",
   "execution_count": 5,
   "metadata": {},
   "outputs": [
    {
     "name": "stdout",
     "output_type": "stream",
     "text": [
      "[[3 2 1]\n",
      " [2 3 2]\n",
      " [1 2 3]]\n",
      "The eigenvalues of the matrix are: [6.37228132 2.         0.62771868]\n"
     ]
    }
   ],
   "source": [
    "def QREig(T, eps):\n",
    "    assert np.allclose(np.triu(T, 2),0), 'Matrix is not tridiagonal'\n",
    "    assert np.allclose(np.tril(T, -2),0), 'Matrix is not tridiagonal'\n",
    "    e = 10\n",
    "    k = 0\n",
    "    while e > eps:\n",
    "        Q,R = np.linalg.qr(T)\n",
    "        T = np.dot(R,Q)\n",
    "        e = np.linalg.norm(np.diag(T,-1))\n",
    "        k +=1\n",
    "    return np.diag(T), k\n",
    "    \n",
    "A = np.array([[3,2,1],[2,3,2], [1,2,3]])\n",
    "print(A)\n",
    "A_tri = tridiagonalize(A)\n",
    "eigenvalues = QREig(A_tri, 10**-8)\n",
    "print(f'The eigenvalues of the matrix are: {eigenvalues[0]}')\n",
    "\n"
   ]
  },
  {
   "cell_type": "code",
   "execution_count": 6,
   "metadata": {},
   "outputs": [
    {
     "name": "stdout",
     "output_type": "stream",
     "text": [
      ".                                                                        [100%]\n",
      "1 passed in 0.02s\n"
     ]
    }
   ],
   "source": [
    "%%run_pytest[clean]\n",
    "\n",
    "def test_QREig():\n",
    "    A = np.array([[3,2,1],[2,3,2], [1,2,3]])\n",
    "    A_tri = tridiagonalize(A)\n",
    "    eigenvalues = QREig(A_tri, 10**-8)[0]\n",
    "    eig_numpy = np.linalg.eig(A)[0]\n",
    "    assert np.allclose(eig_numpy, eigenvalues,rtol=1e-9,atol=1e-11, equal_nan=False)"
   ]
  },
  {
   "cell_type": "markdown",
   "metadata": {},
   "source": [
    "### Task 1.4\n",
    "\n",
    "With the help of $\\text{QREig(T, eps)}$ you can now calculate all eigenvalues. Then you can calculate all corresponding eigenvectors with the help of $\\text{inversePower(A, sigma, eps)}$, by setting $\\sigma$ to approximately the eigenvalues you found (you should add some small random noise to $\\sigma$ in order to avoid singularity issues in the inversion needed for the inverse power method). \n",
    "\n",
    "Apply this combination of functions to calculate all eigenvalues and eigenvectors of the matrix $A$ defined in task 1.1."
   ]
  },
  {
   "cell_type": "code",
   "execution_count": 7,
   "metadata": {},
   "outputs": [
    {
     "name": "stdout",
     "output_type": "stream",
     "text": [
      "Matrix\n",
      " [[3 2 1]\n",
      " [2 3 2]\n",
      " [1 2 3]]\n",
      "\n",
      "Eigenvalues:\n",
      " [6.37228132 2.         0.62771868]\n",
      "\n",
      "Eigenvectors:\n",
      " [[ 1.00000000e+00  1.18614066e+00  1.00000000e+00]\n",
      " [ 1.00000000e+00  9.61314162e-11 -1.00000000e+00]\n",
      " [ 1.00000000e+00 -1.68614066e+00  1.00000000e+00]]\n"
     ]
    }
   ],
   "source": [
    "def eigen_calculate(A, eps):\n",
    "    A_tri = tridiagonalize(A)\n",
    "    eigenvalues = QREig(A_tri, eps)[0]\n",
    "    eigenvectors = np.zeros(np.shape(A))\n",
    "    for i,eig in enumerate(eigenvalues):\n",
    "        eigenvectors[i] = inversePower(A, eig + np.random.normal(0,0.1,1), eps)[0]\n",
    "        eigenvectors[i] = eigenvectors[i]/eigenvectors[i,0]\n",
    "    return eigenvalues, eigenvectors\n",
    "\n",
    "A = np.array([[3,2,1],[2,3,2], [1,2,3]])\n",
    "results = eigen_calculate(A, 10**-8)\n",
    "print(\"Matrix\\n\", A)\n",
    "print(\"\\nEigenvalues:\\n\", results[0])\n",
    "print(\"\\nEigenvectors:\\n\", results[1])\n",
    "\n"
   ]
  },
  {
   "cell_type": "markdown",
   "metadata": {},
   "source": [
    "### [Optional] Task 1.5\n",
    "\n",
    "Test your eigenvalue / eigenvector algorithm for larger random (but symmetric) matrices."
   ]
  },
  {
   "cell_type": "code",
   "execution_count": 8,
   "metadata": {},
   "outputs": [
    {
     "name": "stdout",
     "output_type": "stream",
     "text": [
      "\n",
      "Matrix\n",
      " [[5 8 4 2]\n",
      " [8 5 8 4]\n",
      " [4 8 6 3]\n",
      " [2 4 3 6]]\n",
      "\n",
      "Eigenvalues:\n",
      " [20.69989253 -4.3877252   4.27335614  1.41447653]\n",
      "\n",
      "Eigenvectors:\n",
      " [[ 1.          1.24289964  1.09074191  0.69686389]\n",
      " [ 1.         -1.62961322  0.81206884  0.20045258]\n",
      " [ 1.          0.42863613  0.27975428 -2.63737502]\n",
      " [ 1.          0.0667731  -1.16324136  0.2666286 ]]\n",
      "-------------------------------------------------------\n",
      "\n",
      "Matrix\n",
      " [[8 8 5 7 8]\n",
      " [8 2 3 8 5]\n",
      " [5 3 4 9 6]\n",
      " [7 8 9 7 9]\n",
      " [8 5 6 9 1]]\n",
      "\n",
      "Eigenvalues:\n",
      " [32.38329561 -6.90795407 -4.6912747   2.93766946 -1.7217363 ]\n",
      "\n",
      "Eigenvectors:\n",
      " [[  1.           0.76585574   0.78058752   1.09145204   0.83916847]\n",
      " [  1.          -1.2892273   -0.58479986   1.73313445  -1.72525969]\n",
      " [  1.           8.28380446   8.66437786  -3.58485378 -12.1487029 ]\n",
      " [  1.           0.48271263  -0.89223877  -0.57417522  -0.0554514 ]\n",
      " [  1.          -1.26478528   1.02790744  -0.94128427   0.23074983]]\n",
      "-------------------------------------------------------\n",
      "\n",
      "Matrix\n",
      " [[2 2 6 8 6 2]\n",
      " [2 6 4 6 6 4]\n",
      " [6 4 4 9 5 7]\n",
      " [8 6 9 4 3 2]\n",
      " [6 6 5 3 5 6]\n",
      " [2 4 7 2 6 2]]\n",
      "\n",
      "Eigenvalues:\n",
      " [29.64337543 -7.68999995 -6.23374173  4.82949238  2.21216632  0.23870754]\n",
      "\n",
      "Eigenvectors:\n",
      " [[ 1.          1.03161195  1.26865852  1.19628623  1.10956401  0.87026326]\n",
      " [ 1.          0.68085875  1.17524176 -1.68600308 -0.55406365 -0.64538073]\n",
      " [ 1.          0.22066107 -0.90952025 -0.08399103 -0.75575749  0.99426539]\n",
      " [ 1.         -1.14805751  0.60440863  1.30942169 -1.17034687 -0.97706835]\n",
      " [ 1.         -4.73183605  1.44017949 -1.93707405  1.87959559  2.62689019]\n",
      " [ 1.         -0.10734096 -0.93977008 -0.1139838   1.15772582 -0.97123727]]\n",
      "-------------------------------------------------------\n"
     ]
    }
   ],
   "source": [
    "for n in range(4,7):\n",
    "    A = np.random.randint(1,10, (n,n))\n",
    "    A = np.triu(A) + np.triu(A, 1).T\n",
    "    results = eigen_calculate(A, 10**-8)\n",
    "    print(\"\\nMatrix\\n\", A)\n",
    "    print(\"\\nEigenvalues:\\n\", results[0])\n",
    "    print(\"\\nEigenvectors:\\n\", results[1])\n",
    "    print(\"-------------------------------------------------------\")"
   ]
  },
  {
   "cell_type": "markdown",
   "metadata": {},
   "source": [
    "# Weekly Reflection\n",
    "\n",
    "- How do you judge the level of the last lecture on a scale from 1 to 5?\n",
    "- with: 1: easy to follow, 3: OK to follow, 5: too complicated to follow"
   ]
  },
  {
   "cell_type": "raw",
   "metadata": {},
   "source": [
    "2 - 4"
   ]
  },
  {
   "cell_type": "markdown",
   "metadata": {},
   "source": [
    "- How long did it take you to complete this assignment?"
   ]
  },
  {
   "cell_type": "raw",
   "metadata": {},
   "source": [
    "1.5 - 1.5 hours"
   ]
  },
  {
   "cell_type": "markdown",
   "metadata": {},
   "source": [
    "- How hard was it to finish this assignment on a scale from 1 to 5?\n",
    "- with: 1: easy / no help needed, 3: could solve with guidance, 5: could not solve it"
   ]
  },
  {
   "cell_type": "raw",
   "metadata": {},
   "source": [
    "2 - 3"
   ]
  }
 ],
 "metadata": {
  "kernelspec": {
   "display_name": "Python 3",
   "language": "python",
   "name": "python3"
  },
  "language_info": {
   "codemirror_mode": {
    "name": "ipython",
    "version": 3
   },
   "file_extension": ".py",
   "mimetype": "text/x-python",
   "name": "python",
   "nbconvert_exporter": "python",
   "pygments_lexer": "ipython3",
   "version": "3.7.6"
  }
 },
 "nbformat": 4,
 "nbformat_minor": 4
}
