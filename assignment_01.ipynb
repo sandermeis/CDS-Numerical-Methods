{
  "nbformat": 4,
  "nbformat_minor": 0,
  "metadata": {
    "kernelspec": {
      "display_name": "Python 3",
      "language": "python",
      "name": "python3"
    },
    "language_info": {
      "codemirror_mode": {
        "name": "ipython",
        "version": 3
      },
      "file_extension": ".py",
      "mimetype": "text/x-python",
      "name": "python",
      "nbconvert_exporter": "python",
      "pygments_lexer": "ipython3",
      "version": "3.7.6"
    },
    "colab": {
      "name": "assignment_01_team_1.ipynb",
      "provenance": [],
      "collapsed_sections": []
    }
  },
  "cells": [
    {
      "cell_type": "markdown",
      "metadata": {
        "id": "klEoqIFnrMLc"
      },
      "source": [
        "# CDS: Numerical Methods - Assignment 1\n",
        "\n",
        "#### See lecture notes and documentation on Brightspace for Python and Jupyter basics. If you are stuck, try to google or get in touch via Discord!\n",
        "\n",
        "- Solutions must be submitted via Brightspace as a Jupyter notebook (\\*.ipynb) before **Wednesday, February 3, 8:30 CET.**\n",
        "\n",
        "### Handing-in:\n",
        "\n",
        "1. Click \"Kernel -> Restart & Run All\"\n",
        "2. Check all outputs (In[\\*] or Out[\\*]) for errors and **resolve them if necessary**\n",
        "3. Click again \"Kernel -> Restart & Run All\"\n",
        "4. Save as assignment_01_TEAM-NUMBER.ipynb by clicking \"File -> Save as ...\"\n",
        "5. Download your assignment_\\*.ipynb file\n",
        "6. Upload it **in time (before the deadline)** to Brightspace"
      ]
    },
    {
      "cell_type": "markdown",
      "metadata": {
        "id": "O4EKB3FjrMLq"
      },
      "source": [
        "## 1. Rounding and Truncation Error Analysis\n",
        "\n",
        "Euler's number $e$ can be represented as the infinite series $e = \\sum_{n=0}^{\\infty} \\frac{1}{n!}$. In order to evaluate it in Python we need to truncate the series. Furthermore, we learned that every number representation and floating-point operation introduces a finite error. Thus, let's analyze the truncated series \n",
        "\n",
        "$$\\tilde{e} = \\sum_{n=0}^{N} \\frac{1}{n!}$$ \n",
        "\n",
        "in more detail.\n",
        "\n",
        "### Task 1.1\n",
        "\n",
        "Calculate $\\tilde{e}$ with Python and plot the relative error $ \\delta = \\left| \\frac{\\tilde{e} - e}{e} \\right|$ as a function of $N$ (use a log-scale for the $y$ axis)."
      ]
    },
    {
      "cell_type": "code",
      "metadata": {
        "id": "1-x7MXMprMLz",
        "outputId": "a83a2a48-0974-4ae7-c2dc-f12a241391fd"
      },
      "source": [
        "import numpy as np\n",
        "import matplotlib.pyplot as plt\n",
        "from tqdm import tqdm\n",
        "def rel_error(N):\n",
        "    e_approx = 1\n",
        "    fact = 1\n",
        "\n",
        "    for i in range(1, N):\n",
        "        fact *= i\n",
        "        e_approx += 1/fact\n",
        "\n",
        "    return np.abs((e_approx-np.e)/np.e)\n",
        "\n",
        "errors = np.zeros(30)\n",
        "for i in tqdm(range(30)):\n",
        "    errors[i] = rel_error(i)\n",
        "plt.plot(np.arange(30), errors)\n",
        "plt.yscale('log')\n",
        "plt.xlabel('Number of iterations')\n",
        "plt.ylabel('Relative Error')\n",
        "plt.show()\n",
        "\n"
      ],
      "execution_count": null,
      "outputs": [
        {
          "output_type": "stream",
          "text": [
            "100%|██████████| 30/30 [00:00<00:00, 54971.22it/s]\n"
          ],
          "name": "stderr"
        },
        {
          "output_type": "display_data",
          "data": {
            "image/png": "[encoded data removed]",
            "text/plain": [
              "<Figure size 432x288 with 1 Axes>"
            ]
          },
          "metadata": {
            "tags": [],
            "needs_background": "light"
          }
        }
      ]
    },
    {
      "cell_type": "markdown",
      "metadata": {
        "id": "L9XoYL4GrML_"
      },
      "source": [
        "### Task 1.2 \n",
        "\n",
        "Compare the relative errors $\\delta$ for different floating point precisions as a function of $N$. To this end, we define each element of the series $e_n = \\frac{1}{n!}$ and convert it to double-precision (64 bit) and single-precision (32 bit) floating points **before** adding them up. This can be done by using Numpy's functions $\\text{numpy.float64(e_n)}$ and $\\text{numpy.float32(e_n)}$, respectively."
      ]
    },
    {
      "cell_type": "code",
      "metadata": {
        "id": "SqG_rzEcrMMA",
        "outputId": "1fffbccd-8c59-49c0-8e50-97b8e0717254"
      },
      "source": [
        "def rel_error(N):\n",
        "    e_approx64 = 1\n",
        "    e_approx32 = 1\n",
        "    fact = 1\n",
        "\n",
        "    for i in range(1, N):\n",
        "        fact *= i\n",
        "        e_approx32 += np.float32(1/fact)\n",
        "        e_approx64 += np.float64(1/fact)\n",
        "\n",
        "    return np.abs((e_approx32-np.e)/np.e), np.abs((e_approx64-np.e)/np.e)\n",
        "\n",
        "errors32 = np.zeros(30)\n",
        "errors64 = np.zeros(30)\n",
        "for i in tqdm(range(30)):\n",
        "    errors32[i], errors64[i] = rel_error(i)\n",
        "plt.plot(np.arange(30), errors32)\n",
        "plt.title('32 bit')\n",
        "plt.yscale('log')\n",
        "plt.xlabel('Number of iterations')\n",
        "plt.ylabel('Relative Error')\n",
        "plt.show()\n",
        "plt.figure()\n",
        "plt.plot(np.arange(30), errors64)\n",
        "plt.title('64 bit')\n",
        "plt.yscale('log')\n",
        "plt.xlabel('Number of iterations')\n",
        "plt.ylabel('Relative Error')\n",
        "plt.show()"
      ],
      "execution_count": null,
      "outputs": [
        {
          "output_type": "stream",
          "text": [
            "100%|██████████| 30/30 [00:00<00:00, 20757.03it/s]\n"
          ],
          "name": "stderr"
        },
        {
          "output_type": "display_data",
          "data": {
            "image/png": "[encoded data removed]",
            "text/plain": [
              "<Figure size 432x288 with 1 Axes>"
            ]
          },
          "metadata": {
            "tags": [],
            "needs_background": "light"
          }
        },
        {
          "output_type": "display_data",
          "data": {
            "image/png": "[encoded data removed]",
            "text/plain": [
              "<Figure size 432x288 with 1 Axes>"
            ]
          },
          "metadata": {
            "tags": [],
            "needs_background": "light"
          }
        }
      ]
    },
    {
      "cell_type": "markdown",
      "metadata": {
        "id": "zDE9mGmaukA1"
      },
      "source": [
        "The 64-bit error becomes much lower than the 32-bit error, this is to be expected. "
      ]
    },
    {
      "cell_type": "markdown",
      "metadata": {
        "id": "VuYL_zb7rMMC"
      },
      "source": [
        "### Task 1.3\n",
        "\n",
        "Compare the relative errors $\\delta$ for different rounding accuracies as a function of $N$. Use Python's $\\text{round(e_n, d)}$ function, where $d$ is the number of returned digits, to round each $e_n$ element before adding them up. Plot $\\delta$ vs. $N$ for $d = 1,2,3,4,5$ and add a corresponding legend."
      ]
    },
    {
      "cell_type": "code",
      "metadata": {
        "id": "3-NEh1C1rMMC",
        "outputId": "ec597926-2a8e-47cd-8779-31d5431d93e8"
      },
      "source": [
        "def rel_error(N):\n",
        "    e_approx1 = 1\n",
        "    e_approx2 = 1\n",
        "    e_approx3 = 1\n",
        "    e_approx4 = 1\n",
        "    e_approx5 = 1\n",
        "    \n",
        "    fact = 1\n",
        "\n",
        "    for i in range(1, N):\n",
        "        fact *= i\n",
        "        e_approx1 += np.round(1/fact, 1)\n",
        "        e_approx2 += np.round(1/fact, 2)\n",
        "        e_approx3 += np.round(1/fact, 3)\n",
        "        e_approx4 += np.round(1/fact, 4)\n",
        "        e_approx5 += np.round(1/fact, 5)\n",
        "        \n",
        "    return np.abs((e_approx1-np.e)/np.e), np.abs((e_approx2-np.e)/np.e), np.abs((e_approx3-np.e)/np.e), np.abs((e_approx4-np.e)/np.e), np.abs((e_approx5-np.e)/np.e)\n",
        "\n",
        "errors1 = np.zeros(30)\n",
        "errors2 = np.zeros(30)\n",
        "errors3 = np.zeros(30)\n",
        "errors4 = np.zeros(30)\n",
        "errors5 = np.zeros(30)\n",
        "\n",
        "for i in tqdm(range(30)):\n",
        "    errors1[i], errors2[i], errors3[i], errors4[i], errors5[i] = rel_error(i)\n",
        "plt.plot(np.arange(30), errors1, label ='d = 1')\n",
        "plt.plot(np.arange(30), errors2, label ='d = 2')\n",
        "plt.plot(np.arange(30), errors3, label ='d = 3')\n",
        "plt.plot(np.arange(30), errors4, label ='d = 4')\n",
        "plt.plot(np.arange(30), errors5, label ='d = 5')\n",
        "plt.legend()\n",
        "plt.yscale('log')\n",
        "plt.xlabel('Number of iterations')\n",
        "plt.ylabel('Relative Error')\n",
        "plt.show()"
      ],
      "execution_count": null,
      "outputs": [
        {
          "output_type": "stream",
          "text": [
            "100%|██████████| 30/30 [00:00<00:00, 400.83it/s]\n"
          ],
          "name": "stderr"
        },
        {
          "output_type": "display_data",
          "data": {
            "image/png": "[encoded data removed]",
            "text/plain": [
              "<Figure size 432x288 with 1 Axes>"
            ]
          },
          "metadata": {
            "tags": [],
            "needs_background": "light"
          }
        }
      ]
    },
    {
      "cell_type": "markdown",
      "metadata": {
        "id": "6k_Lo2cwu-kO"
      },
      "source": [
        "The error becomes smaller the more digits we allow during the rounding phase, again this is to be expected. "
      ]
    },
    {
      "cell_type": "markdown",
      "metadata": {
        "id": "AxTkpujarMMD"
      },
      "source": [
        "### Some examples"
      ]
    },
    {
      "cell_type": "code",
      "metadata": {
        "id": "iwskLJubrMME",
        "outputId": "5e31fd92-4b2e-4786-b741-979f3702d57b"
      },
      "source": [
        "import numpy as np\n",
        "\n",
        "# using float32\n",
        "a = 0.1234\n",
        "b = np.float32(a)\n",
        "\n",
        "# using round\n",
        "c = round(a, 2)\n",
        "\n",
        "print(a)\n",
        "print(b)\n",
        "print(c)"
      ],
      "execution_count": null,
      "outputs": [
        {
          "output_type": "stream",
          "text": [
            "0.1234\n",
            "0.1234\n",
            "0.12\n"
          ],
          "name": "stdout"
        }
      ]
    },
    {
      "cell_type": "markdown",
      "metadata": {
        "id": "WkPAOEHwrMMF"
      },
      "source": [
        "# Weekly Reflection\n",
        "\n",
        "- How do you judge the level of the last lecture on a scale from 1 to 5?\n",
        "- with: 1: easy to follow, 3: OK to follow, 5: too complicated to follow"
      ]
    },
    {
      "cell_type": "markdown",
      "metadata": {
        "id": "z13QvtDMrMMI"
      },
      "source": [
        "1, the lessons were easy to follow"
      ]
    },
    {
      "cell_type": "markdown",
      "metadata": {
        "id": "cypQ1cYBrMMJ"
      },
      "source": [
        "- How long did it take you to complete this assignment?"
      ]
    },
    {
      "cell_type": "markdown",
      "metadata": {
        "id": "AceknW_7rMMJ"
      },
      "source": [
        "10-15 minutes"
      ]
    },
    {
      "cell_type": "markdown",
      "metadata": {
        "id": "Ln4BsYLIrMMK"
      },
      "source": [
        "- How hard was it to finish this assignment on a scale from 1 to 5?\n",
        "- with: 1: easy / no help needed, 3: could solve with guidance, 5: could not solve it"
      ]
    },
    {
      "cell_type": "markdown",
      "metadata": {
        "id": "QRMBO20qrMMK"
      },
      "source": [
        "1, I found this exercise pretty simple"
      ]
    }
  ]
}