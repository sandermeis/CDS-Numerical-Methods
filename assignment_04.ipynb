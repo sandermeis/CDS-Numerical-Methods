{
 "cells": [
  {
   "cell_type": "markdown",
   "metadata": {},
   "source": [
    "# CDS: Numerical Methods - Assignment 4\n",
    "\n",
    "#### See lecture notes and documentation on Brightspace for Python and Jupyter basics. If you are stuck, try to google or get in touch via Discord!\n",
    "\n",
    "- Solutions must be submitted via Brightspace as a Jupyter notebook (\\*.ipynb) before **Wednesday, February 24, 8:30 CET.**\n",
    "\n",
    "### Handing-in:\n",
    "\n",
    "1. Click \"Kernel -> Restart & Run All\"\n",
    "2. Check all outputs (In[\\*] or Out[\\*]) for errors and **resolve them if necessary**\n",
    "3. Click again \"Kernel -> Restart & Run All\"\n",
    "4. Save as assignment_04_TEAM-NUMBER.ipynb by clicking \"File -> Save as ...\"\n",
    "5. Download your assignment_\\*.ipynb file\n",
    "6. Upload it **in time (before the deadline)** to Brightspace"
   ]
  },
  {
   "cell_type": "markdown",
   "metadata": {},
   "source": [
    "## 1. Linear Equation Systems\n",
    "\n",
    "In the following you will implement the Jacobi, Steepest Decent (SD) and the Conjugate Gradient (CG) algorithms to solve linear equation systems of the form \n",
    "\n",
    "$$A \\mathbf{x} = \\mathbf{b},$$ \n",
    "\n",
    "with $A$ being an $n \\times n$ matrix.\n",
    "\n",
    "### Task 1.1\n",
    "First, you need to implement a Python function $\\text{diff(a,b)}$, which returns the difference $\\text{d}$ between two $n$-dimensional vectors $\\text{a}$ and $\\text{b}$ according to \n",
    "\n",
    "$$ d = || \\mathbf{a} - \\mathbf{b}||_\\infty = \\underset{i=1,2,\\dots,n}{\\operatorname{max}} |a_i - b_i|. $$"
   ]
  },
  {
   "cell_type": "code",
   "execution_count": 1,
   "metadata": {},
   "outputs": [],
   "source": [
    "import numpy as np\n",
    "\n",
    "def diff(a, b):\n",
    "    assert len(a)==len(b), \"Vectors not of the same length\"\n",
    "    return np.max(np.abs(a-b))\n",
    "\n"
   ]
  },
  {
   "cell_type": "markdown",
   "metadata": {},
   "source": [
    "### Task 1.2 \n",
    "\n",
    "Implement the Jacobi iteration scheme \n",
    "\n",
    "$$\\mathbf{x}^{(k)} = D^{-1}(L + U)\\mathbf{x}^{(k-1)} + D^{-1}\\mathbf{b},$$ \n",
    "\n",
    "where the matrix $A = D - L - U$ has been separated into its diagonal ($D$), lower triangular ($L$) and its upper triangular ($U$) form. \n",
    "\n",
    "Write a Python function $\\text{jacobi(A, b, eps)}$, where $\\text{A}$ represents the $n \\times n$ $A$ matrix, $\\text{b}$ represents the $n$-dimensional solution vector $\\mathbf{b}$, and $\\text{eps}$ is a scalar $\\varepsilon$ defining the accuracy up to which the iteration is performed. Your function should return both the solution vector $\\mathbf{x}^{(k)}$ from the last iteration step and the corresponding iteration index $k$. \n",
    "\n",
    "Use an assertion to make sure the diagonal elements of $A$ are all non-zero. Initialize your iteration with $\\mathbf{x}^{(0)} = \\mathbf{0}$ (or with $\\mathbf{x}^{(1)} = D^{-1}\\mathbf{b}$) and increase $k$ until $|| \\mathbf{x}^{(k)} - \\mathbf{x}^{(k-1)}||_\\infty < \\varepsilon$. \n",
    "\n",
    "Hint: Use $\\text{numpy.dot()}$ for all needed matrix/vector products."
   ]
  },
  {
   "cell_type": "code",
   "execution_count": 2,
   "metadata": {},
   "outputs": [],
   "source": [
    "\n",
    "def jacobi(A, b, eps):\n",
    "    assert np.all(np.diag(A) != 0)\n",
    "    L = -1* np.tril(A,-1)\n",
    "    U = -1* np.triu(A,1)\n",
    "    D = A + L + U\n",
    "    D_inv = np.linalg.inv(D)\n",
    "    x_k = np.zeros(np.shape(A)[0])\n",
    "    x = x_k+100\n",
    "    k = 0\n",
    "    while diff(x_k, x) > eps:\n",
    "        x = x_k\n",
    "        x_k = np.dot(D_inv, np.dot(L+U, x)) + np.dot(D_inv, b)\n",
    "        k+=1\n",
    "    \n",
    "    return x_k, k\n",
    "    \n",
    "    \n",
    "\n",
    "    \n",
    "    "
   ]
  },
  {
   "cell_type": "markdown",
   "metadata": {},
   "source": [
    "### Task 1.3\n",
    "\n",
    "Verify your implementation by comparing your approximate result to an exact solution. Use $\\text{numpy.linalg.solve()}$ to obtain the exact solution of the system\n",
    "\n",
    "$$\n",
    "\\begin{align*}\n",
    "    \\begin{pmatrix}\n",
    "        10 & -1 & 2 & 0 \\\\ \n",
    "        -1 & 11 &-1 & 3 \\\\\n",
    "         2 & -1 & 10&-1 \\\\\n",
    "         0 &  3 & -1& 8\n",
    "    \\end{pmatrix} \\mathbf{x}^*\n",
    "    =\n",
    "    \\begin{pmatrix}\n",
    "    6 \\\\\n",
    "    25 \\\\\n",
    "    -11\\\\\n",
    "    15\n",
    "    \\end{pmatrix}\n",
    "\\end{align*}\n",
    "$$\n",
    "\n",
    "Then compare you approximate result $\\mathbf{\\tilde{x}}$ to the exact result $\\mathbf{x^*}$ by calculating $|| \\mathbf{x}^* - \\mathbf{\\tilde{x}}||_\\infty$ for different accuracies $\\varepsilon = 10^{-1}, 10^{-2}, 10^{-3}, 10^{-4}$. Implement a unit test for your function using this system."
   ]
  },
  {
   "cell_type": "code",
   "execution_count": 3,
   "metadata": {},
   "outputs": [
    {
     "data": {
      "text/plain": [
       "Text(0, 0.5, 'Diff')"
      ]
     },
     "execution_count": 3,
     "metadata": {},
     "output_type": "execute_result"
    },
    {
     "data": {
      "image/png": "[encoded data removed]",
      "text/plain": [
       "<Figure size 432x288 with 1 Axes>"
      ]
     },
     "metadata": {
      "needs_background": "light"
     },
     "output_type": "display_data"
    }
   ],
   "source": [
    "import matplotlib.pyplot as plt\n",
    "\n",
    "A = np.array([[10,-1,2,0],[-1,11,-1,3], [2,-1,10,-1], [0,3,-1,8]])\n",
    "b = np.array([6,25,-11,15])\n",
    "\n",
    "solution = np.linalg.solve(A,b)\n",
    "diff_sol = np.zeros(4)\n",
    "for i in range(4):\n",
    "    diff_sol[i] = diff(solution, jacobi(A,b, 10**-(i+1))[0])\n",
    "\n",
    "plt.scatter(10**(-1*np.arange(1,5, dtype = 'float')), diff_sol)\n",
    "plt.plot(10**(-1*np.arange(1,5, dtype = 'float')), diff_sol)\n",
    "plt.xscale('log')\n",
    "plt.yscale('log')\n",
    "plt.xlabel(\"Epsilon\")\n",
    "plt.ylabel('Diff')\n"
   ]
  },
  {
   "cell_type": "code",
   "execution_count": 4,
   "metadata": {},
   "outputs": [],
   "source": [
    "# load ipytest\n",
    "import ipytest\n",
    "ipytest.autoconfig()"
   ]
  },
  {
   "cell_type": "code",
   "execution_count": 5,
   "metadata": {},
   "outputs": [
    {
     "name": "stdout",
     "output_type": "stream",
     "text": [
      ".                                                                        [100%]\n",
      "1 passed in 0.05s\n"
     ]
    }
   ],
   "source": [
    "%%run_pytest[clean]\n",
    "\n",
    "def test_jacobi():\n",
    "    A = np.array([[10,-1,2,0],[-1,11,-1,3], [2,-1,10,-1], [0,3,-1,8]])\n",
    "    b = np.array([6,25,-11,15])\n",
    "    solution = np.linalg.solve(A,b)\n",
    "    jac = jacobi(A,b, 10**-9)[0]\n",
    "    \n",
    "    assert np.allclose(solution, jac, rtol=1e-9,atol=1e-11, equal_nan=False)\n",
    "    "
   ]
  },
  {
   "cell_type": "markdown",
   "metadata": {},
   "source": [
    "### Task 1.4\n",
    "\n",
    "Next, implement the Steepest Descent algorithm in a similar Python function $\\text{SD(A, b, eps)}$, which calculates\n",
    "\n",
    "\\begin{align*}\n",
    "    \\mathbf{v}^{(k)} &= \\mathbf{b} - A \\mathbf{x}^{(k-1)} \\\\\n",
    "    t_k &= \\frac{ \\langle \\mathbf{v}^{(k)}, \\mathbf{v}^{(k)} \\rangle }{ \\langle \\mathbf{v}^{(k)}, A \\mathbf{v}^{(k)}\\rangle } \\\\\n",
    "    \\mathbf{x}^{(k)} &= \\mathbf{x}^{(k-1)} + t_k \\mathbf{v}^{(k)} .\n",
    "\\end{align*}\n",
    "\n",
    "Initialize your iteration again with $\\mathbf{x}^{(0)} = \\mathbf{0}$ and increase $k$ until $|| \\mathbf{x}^{(k)} - \\mathbf{x}^{(k-1)}||_\\infty < \\varepsilon$. Return the solution vector $\\mathbf{x}^{(k)}$ from the last iteration step and the corresponding iteration index $k$. Implement a unit test for your implementation by comparing your result to the exact solution of the system in task 1.3.\n",
    "Use $\\text{numpy.dot()}$ for all needed vector/vector and matrix/vector products. "
   ]
  },
  {
   "cell_type": "code",
   "execution_count": 6,
   "metadata": {},
   "outputs": [],
   "source": [
    "def SD(A, b, eps):\n",
    "    x_k = np.zeros(np.shape(A)[0])\n",
    "    x = x_k+100\n",
    "    k = 0\n",
    "    while diff(x, x_k) > eps:\n",
    "        x = x_k\n",
    "        v_k = b - np.dot(A, x)\n",
    "        t_k = np.dot(v_k, v_k) / np.dot(v_k, np.dot(A, v_k))\n",
    "        x_k = x + t_k * v_k\n",
    "        k+=1\n",
    "    return x_k, k\n"
   ]
  },
  {
   "cell_type": "code",
   "execution_count": 7,
   "metadata": {},
   "outputs": [
    {
     "name": "stdout",
     "output_type": "stream",
     "text": [
      ".                                                                        [100%]\n",
      "1 passed in 0.01s\n"
     ]
    }
   ],
   "source": [
    "%%run_pytest[clean]\n",
    "\n",
    "def test_SD():\n",
    "    A = np.array([[10,-1,2,0],[-1,11,-1,3], [2,-1,10,-1], [0,3,-1,8]])\n",
    "    b = np.array([6,25,-11,15])\n",
    "    solution = np.linalg.solve(A,b)\n",
    "    sd = SD(A,b, 10**-9)[0]\n",
    "    \n",
    "    assert np.allclose(solution, sd, rtol=1e-9,atol=1e-11, equal_nan=False)\n",
    "    "
   ]
  },
  {
   "cell_type": "markdown",
   "metadata": {},
   "source": [
    "### Task 1.5\n",
    "\n",
    "Finally, based on your steepest decent implementation from task 1.4, implement the Conjugate Gradient algorithm in a Python function $\\text{CG(A, b, eps)}$ in the following way: \n",
    "\n",
    "Initialize your procedure with:\n",
    "\n",
    "\\begin{align*}\n",
    "    \\mathbf{x}^{(0)} &= \\mathbf{0} \\\\\n",
    "    \\mathbf{r}^{(0)} &= \\mathbf{b} - A \\mathbf{x}^{(0)} \\\\\n",
    "    \\mathbf{v}^{(0)} &= \\mathbf{r}^{(0)}\n",
    "\\end{align*}\n",
    "\n",
    "Then increase $k$ and repeat the following until $|| \\mathbf{x}^{(k)} - \\mathbf{x}^{(k-1)}||_\\infty < \\varepsilon$.\n",
    "\n",
    "\\begin{align*}\n",
    "    t_k &= \\frac{ \\langle \\mathbf{r}^{(k)}, \\mathbf{r}^{(k)} \\rangle }{ \\langle \\mathbf{v}^{(k)}, A \\mathbf{v}^{(k)} \\rangle } \\\\\n",
    "    \\mathbf{x}^{(k+1)} &= \\mathbf{x}^{(k)} + t_k \\mathbf{v}^{(k)} \\\\\n",
    "    \\mathbf{r}^{(k+1)} &= \\mathbf{r}^{(k)} - t_k A \\mathbf{v}^{(k)} \\\\\n",
    "    s_k &= \\frac{ \\langle \\mathbf{r}^{(k+1)}, \\mathbf{r}^{(k+1)} \\rangle }{ \\langle \\mathbf{r}^{(k)}, \\mathbf{r}^{(k)} \\rangle } \\\\\n",
    "    \\mathbf{v}^{(k+1)} &= \\mathbf{r}^{(k+1)} + s_k \\mathbf{v}^{(k)}\n",
    "\\end{align*}\n",
    "\n",
    "Return the solution vector $\\mathbf{x}^{(k)}$ from the last iteration step and the corresponding iteration index $k$. Implement a unit test for your implementation by comparing your result to the exact solution of the system in task 1.3.\n",
    "Use $\\text{numpy.dot()}$ for all needed vector/vector and matrix/vector products.\n",
    "\n",
    "How do you expect the number of needed iteration steps to behave when changing the accuracy $\\epsilon$? What do you see?"
   ]
  },
  {
   "cell_type": "code",
   "execution_count": 8,
   "metadata": {},
   "outputs": [
    {
     "data": {
      "text/plain": [
       "Text(0, 0.5, 'Number of Iterations')"
      ]
     },
     "execution_count": 8,
     "metadata": {},
     "output_type": "execute_result"
    },
    {
     "data": {
      "image/png": "[encoded data removed]",
      "text/plain": [
       "<Figure size 432x288 with 1 Axes>"
      ]
     },
     "metadata": {
      "needs_background": "light"
     },
     "output_type": "display_data"
    }
   ],
   "source": [
    "def CG(A, b, eps):\n",
    "    x_k = np.zeros(np.shape(A)[0])\n",
    "    r_k = b - np.dot(A, x_k)\n",
    "    v_k = r_k\n",
    "    x = x_k + 100\n",
    "    k = 0\n",
    "    \n",
    "    while diff(x, x_k) > eps:\n",
    "        x = x_k\n",
    "        r = r_k\n",
    "        v = v_k\n",
    "        \n",
    "        t_k = np.dot(r, r)/np.dot(v, np.dot(A,v))\n",
    "        x_k = x + t_k * v\n",
    "        r_k = r - t_k * np.dot(A, v)\n",
    "        s_k = np.dot(r_k, r_k)/np.dot(r,r)\n",
    "        v_k = r_k + s_k * v\n",
    "        k+=1\n",
    "    return x_k, k\n",
    "\n",
    "\n",
    "A = np.array([[10,-1,2,0],[-1,11,-1,3], [2,-1,10,-1], [0,3,-1,8]])\n",
    "b = np.array([6,25,-11,15])\n",
    "\n",
    "k = np.zeros(10)\n",
    "eps = 10**(-1*np.arange(1,11, dtype='float'))\n",
    "for i, ep in enumerate(eps):\n",
    "    k[i] = CG(A, b, ep)[1]\n",
    "\n",
    "\n",
    "plt.plot(eps, k)\n",
    "plt.xscale('log')\n",
    "plt.xlabel('Epsilon')\n",
    "plt.ylabel('Number of Iterations')\n",
    "\n",
    "    \n",
    "\n",
    "\n"
   ]
  },
  {
   "cell_type": "markdown",
   "metadata": {},
   "source": [
    "We would expect the number of iterations to be dependent on the accuracy we desire (eps). Instead it seems like the algorithm finds an exact solution at 5 iterations."
   ]
  },
  {
   "cell_type": "code",
   "execution_count": 9,
   "metadata": {},
   "outputs": [
    {
     "name": "stdout",
     "output_type": "stream",
     "text": [
      ".                                                                        [100%]\n",
      "1 passed in 0.01s\n"
     ]
    }
   ],
   "source": [
    "%%run_pytest[clean]\n",
    "\n",
    "def test_CG():\n",
    "    A = np.array([[10,-1,2,0],[-1,11,-1,3], [2,-1,10,-1], [0,3,-1,8]])\n",
    "    b = np.array([6,25,-11,15])\n",
    "    solution = np.linalg.solve(A,b)\n",
    "    cg = CG(A,b, 10**-9)[0]\n",
    "    \n",
    "    assert np.allclose(solution, cg, rtol=1e-10,atol=1e-12, equal_nan=False)"
   ]
  },
  {
   "cell_type": "markdown",
   "metadata": {},
   "source": [
    "### Task 1.6\n",
    "\n",
    "Apply all three methods to the following system\n",
    "\n",
    "\\begin{align*}\n",
    "\\begin{pmatrix}\n",
    "0.2&  0.1&  1.0& 1.0&   0.0 \\\\ \n",
    "0.1&  4.0& -1.0& 1.0&  -1.0 \\\\\n",
    "1.0& -1.0& 60.0& 0.0&  -2.0 \\\\\n",
    "1.0&  1.0&  0.0& 8.0&   4.0 \\\\\n",
    "0.0& -1.0& -2.0& 4.0& 700.0\n",
    "\\end{pmatrix} \\mathbf{x}^*\n",
    "=\n",
    "\\begin{pmatrix}\n",
    "1 \\\\\n",
    "2 \\\\\n",
    "3 \\\\\n",
    "4 \\\\\n",
    "5\n",
    "\\end{pmatrix}.\n",
    "\\end{align*}\n",
    "    \n",
    "Plot the number of needed iterations for each method as a function of $\\varepsilon$, using $\\varepsilon = 10^{-1}, 10^{-2}, ..., 10^{-8}$.\n",
    "\n",
    "Explain the observed behavior with the help of the condition number (which you can calculate using $\\text{numpy.linalg.cond()}$). "
   ]
  },
  {
   "cell_type": "code",
   "execution_count": 16,
   "metadata": {
    "scrolled": true
   },
   "outputs": [
    {
     "name": "stdout",
     "output_type": "stream",
     "text": [
      "The condition number is: 12265.159140471394\n",
      "The solution given by numpy is: x = [ 7.85971308  0.42292641 -0.07359224 -0.54064302  0.01062616]\n",
      "\n",
      "\n"
     ]
    },
    {
     "data": {
      "image/png": "[encoded data removed]",
      "text/plain": [
       "<Figure size 432x288 with 1 Axes>"
      ]
     },
     "metadata": {
      "needs_background": "light"
     },
     "output_type": "display_data"
    },
    {
     "data": {
      "image/png": "[encoded data removed]",
      "text/plain": [
       "<Figure size 432x288 with 1 Axes>"
      ]
     },
     "metadata": {
      "needs_background": "light"
     },
     "output_type": "display_data"
    }
   ],
   "source": [
    "A = np.array([[0.2, 0.1, 1.0, 1.0, 0], [0.1, 4.0, -1.0, 1.0, -1.0], [1.0, -1.0, 60.0, 0.0, -2.0], [1.0, 1.0, 0.0, 8.0, 4.0], [0.0, -1.0, -2.0, 4.0, 700.0]])\n",
    "b = np.array([1,2,3,4,5])\n",
    "\n",
    "print(f'The condition number is: {np.linalg.cond(A)}')\n",
    "print(f\"The solution given by numpy is: x = {np.linalg.solve(A,b)}\\n\\n\")\n",
    "\n",
    "eps = 10**(-1*np.arange(1,9, dtype='float'))\n",
    "jac = np.zeros(8)\n",
    "sd = np.zeros(8)\n",
    "cg = np.zeros(8)\n",
    "\n",
    "for i, ep in enumerate(eps):\n",
    "    jac[i] = jacobi(A,b, ep)[1]\n",
    "    sd[i] = SD(A,b, ep)[1]\n",
    "    cg[i] = CG(A,b,ep)[1]\n",
    "\n",
    "fig, ax = plt.subplots(1,1)\n",
    "ax.plot(eps, jac, label='Jacobi')\n",
    "ax.plot(eps, sd, label = 'SD')\n",
    "ax.plot(eps, cg, label = 'CG')\n",
    "ax.set_yscale('log')\n",
    "ax.set_xscale('log')\n",
    "ax.legend()\n",
    "ax.set_xlabel('Epsilon')\n",
    "ax.set_ylabel('Number of Iterations')\n",
    "ax.invert_xaxis()\n",
    "\n",
    "fig, ax = plt.subplots(1,1)\n",
    "ax.plot(eps, jac, label='Jacobi')\n",
    "ax.plot(eps, sd, label = 'SD')\n",
    "ax.plot(eps, cg, label = 'CG')\n",
    "#ax.set_yscale('log')\n",
    "ax.set_xscale('log')\n",
    "ax.legend()\n",
    "ax.set_xlabel('Epsilon')\n",
    "ax.set_ylabel('Number of Iterations')\n",
    "ax.invert_xaxis()\n"
   ]
  },
  {
   "cell_type": "markdown",
   "metadata": {},
   "source": [
    "The condition number is >>1, so the solution is susceptible to round off errors"
   ]
  },
  {
   "cell_type": "markdown",
   "metadata": {},
   "source": [
    "### [Optional] Task 1.7 \n",
    "\n",
    "Try to get a better convergence behavior by pre-conditioning your matrix $A$. Instead of $A$ use\n",
    "\n",
    "$$ \\tilde{A} = C A C,$$\n",
    "\n",
    "where $C = \\sqrt{D^{-1}}$. If you do so, you will need to replace $\\mathbf{b}$ by \n",
    "\n",
    "$$\\mathbf{\\tilde{b}} = C \\mathbf{b}$$\n",
    "\n",
    "and the vector $\\mathbf{\\tilde{x}}$ returned by one of your methods will have to be transformed back via\n",
    "\n",
    "$$\\mathbf{x} = C \\mathbf{\\tilde{x}}.$$ \n",
    "\n",
    "What is the effect of $C$ on the condition number and why?"
   ]
  },
  {
   "cell_type": "code",
   "execution_count": 15,
   "metadata": {},
   "outputs": [
    {
     "name": "stdout",
     "output_type": "stream",
     "text": [
      "The condition number is: 12.025984029659853\n",
      "The solution given by numpy is: x = [ 7.85971308  0.42292641 -0.07359224 -0.54064302  0.01062616]\n",
      "\n",
      "\n"
     ]
    },
    {
     "data": {
      "image/png": "[encoded data removed]",
      "text/plain": [
       "<Figure size 432x288 with 1 Axes>"
      ]
     },
     "metadata": {
      "needs_background": "light"
     },
     "output_type": "display_data"
    },
    {
     "data": {
      "image/png": "[encoded data removed]",
      "text/plain": [
       "<Figure size 432x288 with 1 Axes>"
      ]
     },
     "metadata": {
      "needs_background": "light"
     },
     "output_type": "display_data"
    }
   ],
   "source": [
    "A = np.array([[0.2, 0.1, 1.0, 1.0, 0], [0.1, 4.0, -1.0, 1.0, -1.0], [1.0, -1.0, 60.0, 0.0, -2.0], [1.0, 1.0, 0.0, 8.0, 4.0], [0.0, -1.0, -2.0, 4.0, 700.0]])\n",
    "b = np.array([1,2,3,4,5])\n",
    "L = -1* np.tril(A,-1)\n",
    "U = -1* np.triu(A,1)\n",
    "D = A + L + U\n",
    "C = np.sqrt(np.linalg.inv(D))\n",
    "A_pc = np.dot(C, np.dot(A,C))\n",
    "b_pc = np.dot(C,b)\n",
    "\n",
    "print(f'The condition number is: {np.linalg.cond(A_pc)}')\n",
    "print(f\"The solution given by numpy is: x = {np.dot(C, np.linalg.solve(A_pc,b_pc))}\\n\\n\")\n",
    "\n",
    "eps = 10**(-1*np.arange(1,9, dtype='float'))\n",
    "jac = np.zeros(8)\n",
    "sd = np.zeros(8)\n",
    "cg = np.zeros(8)\n",
    "\n",
    "for i, ep in enumerate(eps):\n",
    "    jac[i] = jacobi(A_pc,b_pc, ep)[1]\n",
    "    sd[i] = SD(A_pc,b_pc, ep)[1]\n",
    "    cg[i] = CG(A_pc,b_pc,ep)[1]\n",
    "\n",
    "fig, ax = plt.subplots(1,1)\n",
    "ax.plot(eps, jac, label='Jacobi')\n",
    "ax.plot(eps, sd, label = 'SD')\n",
    "ax.plot(eps, cg, label = 'CG')\n",
    "ax.set_yscale('log')\n",
    "ax.set_xscale('log')\n",
    "ax.legend()\n",
    "ax.set_xlabel('Epsilon')\n",
    "ax.set_ylabel('Number of Iterations')\n",
    "ax.invert_xaxis()\n",
    "\n",
    "fig, ax = plt.subplots(1,1)\n",
    "ax.plot(eps, jac, label='Jacobi')\n",
    "ax.plot(eps, sd, label = 'SD')\n",
    "ax.plot(eps, cg, label = 'CG')\n",
    "#ax.set_yscale('log')\n",
    "ax.set_xscale('log')\n",
    "ax.legend()\n",
    "ax.set_xlabel('Epsilon')\n",
    "ax.set_ylabel('Number of Iterations')\n",
    "ax.invert_xaxis()"
   ]
  },
  {
   "cell_type": "markdown",
   "metadata": {},
   "source": [
    "C decreases the condition number by getting eigenvalues of A closer to 1"
   ]
  },
  {
   "cell_type": "markdown",
   "metadata": {},
   "source": [
    "# Weekly Reflection\n",
    "\n",
    "- How do you judge the level of the last lecture on a scale from 1 to 5?\n",
    "- with: 1: easy to follow, 3: OK to follow, 5: too complicated to follow"
   ]
  },
  {
   "cell_type": "raw",
   "metadata": {},
   "source": [
    "3"
   ]
  },
  {
   "cell_type": "markdown",
   "metadata": {},
   "source": [
    "- How long did it take you to complete this assignment?"
   ]
  },
  {
   "cell_type": "raw",
   "metadata": {},
   "source": [
    "1.5 hours"
   ]
  },
  {
   "cell_type": "markdown",
   "metadata": {},
   "source": [
    "- How hard was it to finish this assignment on a scale from 1 to 5?\n",
    "- with: 1: easy / no help needed, 3: could solve with guidance, 5: could not solve it"
   ]
  },
  {
   "cell_type": "raw",
   "metadata": {},
   "source": [
    "2"
   ]
  }
 ],
 "metadata": {
  "kernelspec": {
   "display_name": "Python 3",
   "language": "python",
   "name": "python3"
  },
  "language_info": {
   "codemirror_mode": {
    "name": "ipython",
    "version": 3
   },
   "file_extension": ".py",
   "mimetype": "text/x-python",
   "name": "python",
   "nbconvert_exporter": "python",
   "pygments_lexer": "ipython3",
   "version": "3.7.6"
  }
 },
 "nbformat": 4,
 "nbformat_minor": 4
}
