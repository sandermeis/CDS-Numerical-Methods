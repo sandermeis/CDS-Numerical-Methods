{
 "cells": [
  {
   "cell_type": "markdown",
   "metadata": {},
   "source": [
    "# CDS: Numerical Methods - Assignment 2\n",
    "\n",
    "#### See lecture notes and documentation on Brightspace for Python and Jupyter basics. If you are stuck, try to google or get in touch via Discord!\n",
    "\n",
    "- Solutions must be submitted via Brightspace as a Jupyter notebook (\\*.ipynb) before **Wednesday, February 10, 8:30 CET.**\n",
    "\n",
    "### Handing-in:\n",
    "\n",
    "1. Click \"Kernel -> Restart & Run All\"\n",
    "2. Check all outputs (In[\\*] or Out[\\*]) for errors and **resolve them if necessary**\n",
    "3. Click again \"Kernel -> Restart & Run All\"\n",
    "4. Save as assignment_02_TEAM-NUMBER.ipynb by clicking \"File -> Save as ...\"\n",
    "5. Download your assignment_\\*.ipynb file\n",
    "6. Upload it **in time (before the deadline)** to Brightspace"
   ]
  },
  {
   "cell_type": "markdown",
   "metadata": {},
   "source": [
    "## 1. Polynomial Interpolation\n",
    "\n",
    "In the following you will construct the interpolating polynomial for the pairs $x_k = [2,3,4,5,6]$ and $y_k = [2,5,5,5,6]$ using the \"inversion method\" via the Vandermonde matrix, as discussed in the lecture.\n",
    "\n",
    "### Task 1.1\n",
    "\n",
    "Set up the Vandermonde matrix and calculate its determinant using $\\text{numpy.linalg.det()}$."
   ]
  },
  {
   "cell_type": "code",
   "execution_count": 1,
   "metadata": {},
   "outputs": [
    {
     "name": "stdout",
     "output_type": "stream",
     "text": [
      "[[  16    8    4    2    1]\n",
      " [  81   27    9    3    1]\n",
      " [ 256   64   16    4    1]\n",
      " [ 625  125   25    5    1]\n",
      " [1296  216   36    6    1]]\n",
      "\n",
      "The determinant of the Vandermonde Matrix is: 288.0000000000049\n"
     ]
    }
   ],
   "source": [
    "import numpy as np\n",
    "import matplotlib.pyplot as plt\n",
    "import ipytest\n",
    "ipytest.autoconfig()\n",
    "x = np.array([2,3,4,5,6])\n",
    "y = np.array([2,5,5,5,6])\n",
    "vandermonde_matrix = np.vander(x)\n",
    "det = np.linalg.det(vandermonde_matrix)\n",
    "print(vandermonde_matrix)\n",
    "print(f'\\nThe determinant of the Vandermonde Matrix is: {det}')\n"
   ]
  },
  {
   "cell_type": "markdown",
   "metadata": {},
   "source": [
    "### Task 1.2\n",
    "\n",
    "Write a function that constructs the interpolating polynomial for $\\text{x}$ (a user-defined array of $x$ values) using the Vandermonde matrix from the previous task and $\\text{numpy.linalg.inv()}$."
   ]
  },
  {
   "cell_type": "code",
   "execution_count": 2,
   "metadata": {},
   "outputs": [],
   "source": [
    "def poly(x, y):\n",
    "    vandermonde_matrix = np.vander(x)\n",
    "    vand_inv = np.linalg.inv(vandermonde_matrix)\n",
    "    poly_terms = np.dot(vand_inv, y)\n",
    "    return poly_terms\n",
    "    \n",
    "\n",
    "terms = poly(x,y)\n",
    "    \n"
   ]
  },
  {
   "cell_type": "markdown",
   "metadata": {},
   "source": [
    "### Task 1.3\n",
    "\n",
    "Plot the interpolating polynomial from $x=2$ to $x=6$ using $x$-step-sizes of $0.01$."
   ]
  },
  {
   "cell_type": "code",
   "execution_count": 3,
   "metadata": {},
   "outputs": [
    {
     "data": {
      "text/plain": [
       "Text(0, 0.5, 'y')"
      ]
     },
     "execution_count": 3,
     "metadata": {},
     "output_type": "execute_result"
    },
    {
     "data": {
      "image/png": "[encoded data removed]",
      "text/plain": [
       "<Figure size 432x288 with 1 Axes>"
      ]
     },
     "metadata": {
      "needs_background": "light"
     },
     "output_type": "display_data"
    }
   ],
   "source": [
    "x_inter = np.linspace(2,6, 400)\n",
    "y_inter = np.sum([terms[i] * x_inter**(4-i) for i in range(5)], axis = 0)\n",
    "\n",
    "\n",
    "plt.plot(x_inter, y_inter, label = 'Interpolating polynomial')\n",
    "plt.scatter(x,y, label = 'Original Data', c ='red')\n",
    "plt.legend()\n",
    "plt.xlabel('x')\n",
    "plt.ylabel('y')\n"
   ]
  },
  {
   "cell_type": "markdown",
   "metadata": {},
   "source": [
    "## 2. Lagrange Polynomial Interpolation\n",
    "\n",
    "### Task 2.1\n",
    "\n",
    "Write your own Lagrange polynomial interpolation routine which calculates \n",
    "\n",
    "$$P(x) = \\sum_{k=0}^n f(x_k) L_{n,k}(x)$$\n",
    "\n",
    "Start with a function $\\text{myLagrange(xk, yk, x)}$ which internally calls another function $\\text{myLagrangePolynomials(xk, k, x)}$ that generates the Lagrange interpolation polynomials \n",
    "\n",
    "$$L_{n,k}(x) = \\prod_{\\substack{i=0 \\\\ i\\neq k}}^n \\frac{x-x_i}{x_k - x_i}$$\n",
    "\n",
    "Here $\\text{xk}$ and $\\text{yk}$ are arrays of the same size representing the $(x_k, y_k=f(x_k))$ pairs which we like to interpolate and $\\text{x}$ is a user-defined array of $x$ values. "
   ]
  },
  {
   "cell_type": "code",
   "execution_count": 4,
   "metadata": {},
   "outputs": [],
   "source": [
    "def myLagrangePolynomials(xk, k, x):\n",
    "    L = np.ones(np.size(x), dtype=np.float64)\n",
    "    \n",
    "    for i in range(np.size(xk)):\n",
    "        if i != k:\n",
    "            L *= (x-xk[i])/(xk[k] - xk[i])\n",
    "         \n",
    "    return L\n",
    "\n",
    "def myLagrange(xk, yk, x):\n",
    "    p = np.zeros(np.size(x), dtype=np.float64)\n",
    "    \n",
    "    for k in range(np.size(xk)):\n",
    "        p += yk[k] * myLagrangePolynomials(xk, k, x)\n",
    "    \n",
    "    \n",
    "    return p\n",
    "\n"
   ]
  },
  {
   "cell_type": "markdown",
   "metadata": {},
   "source": [
    "### Task 2.2\n",
    "\n",
    "Use your Lagrange interpolation routine to construct the interpolating polynomial for the pairs $x_k = [2,3,4,5,6]$ and $y_k = [2,5,5,5,6]$ and plot it from $x=2$ to $x=6$ using $x$-step-sizes of $0.01$."
   ]
  },
  {
   "cell_type": "code",
   "execution_count": 5,
   "metadata": {},
   "outputs": [
    {
     "data": {
      "text/plain": [
       "Text(0, 0.5, 'y')"
      ]
     },
     "execution_count": 5,
     "metadata": {},
     "output_type": "execute_result"
    },
    {
     "data": {
      "image/png": "[encoded data removed]",
      "text/plain": [
       "<Figure size 432x288 with 1 Axes>"
      ]
     },
     "metadata": {
      "needs_background": "light"
     },
     "output_type": "display_data"
    }
   ],
   "source": [
    "xk = np.array([2,3,4,5,6])\n",
    "yk = np.array([2,5,5,5,6])\n",
    "x_inter_L = np.linspace(2,6, 400)\n",
    "y_inter_L = myLagrange(xk, yk, x_inter)\n",
    "\n",
    "plt.plot(x_inter_L, y_inter_L, label = 'Interpolating polynomial')\n",
    "plt.scatter(x,y, label = 'Original Data', c ='red')\n",
    "plt.legend()\n",
    "plt.xlabel('x')\n",
    "plt.ylabel('y')\n"
   ]
  },
  {
   "cell_type": "markdown",
   "metadata": {},
   "source": [
    "### Task 2.3\n",
    "\n",
    "Make sure your result is identical to the one obtained from Scipy's Lagrange function $\\text{scipy.interpolate.lagrange()}$ and to the results obtained in Task 1.3. Plot all results in the same figure."
   ]
  },
  {
   "cell_type": "code",
   "execution_count": 6,
   "metadata": {},
   "outputs": [
    {
     "data": {
      "text/plain": [
       "Text(0, 0.5, 'y')"
      ]
     },
     "execution_count": 6,
     "metadata": {},
     "output_type": "execute_result"
    },
    {
     "data": {
      "image/png": "[encoded data removed]",
      "text/plain": [
       "<Figure size 432x288 with 1 Axes>"
      ]
     },
     "metadata": {
      "needs_background": "light"
     },
     "output_type": "display_data"
    }
   ],
   "source": [
    "from scipy import interpolate \n",
    "y_inter_sp = interpolate.lagrange(xk, yk)(x_inter)\n",
    "\n",
    "\n",
    "plt.plot(x_inter_L, y_inter_L, label = 'Lagrange')\n",
    "plt.plot(x_inter, y_inter_sp, label = 'Scipy Lagrange')\n",
    "plt.plot(x_inter, y_inter, label = 'Vandermonde Matrix')\n",
    "plt.scatter(x,y, label = 'Original Data', c ='red')\n",
    "plt.legend()\n",
    "plt.xlabel('x')\n",
    "plt.ylabel('y')\n",
    "\n",
    "\n"
   ]
  },
  {
   "cell_type": "markdown",
   "metadata": {},
   "source": [
    "### Task 2.4\n",
    "\n",
    "Implement a simple unit test to test your routine using the $\\text{ipytest}$ package, see https://github.com/chmp/ipytest (or for the original $\\text{pytest}$ package https://docs.pytest.org/en/latest/). More details will follow in the hands-on session."
   ]
  },
  {
   "cell_type": "code",
   "execution_count": 7,
   "metadata": {},
   "outputs": [],
   "source": [
    "def ip(x_k,y_k,x_input):\n",
    "    vd = np.vander(x_k)\n",
    "    a_k=np.dot(np.linalg.inv(vd),y_k)[::-1]\n",
    "    y=np.empty_like(x_input)\n",
    "    for i, x in enumerate(x_input):\n",
    "        y[i]=np.sum(a_k*x**np.arange(len(a_k)))\n",
    "    return y"
   ]
  },
  {
   "cell_type": "code",
   "execution_count": 8,
   "metadata": {},
   "outputs": [
    {
     "name": "stdout",
     "output_type": "stream",
     "text": [
      ".....                                                                    [100%]\n",
      "5 passed in 0.09s\n"
     ]
    }
   ],
   "source": [
    "%%run_pytest[clean]\n",
    "\n",
    " #These three test functions test if the values of all three methods are indeed equal\n",
    "def test_equal():\n",
    "    assert np.allclose(y_inter, y_inter_sp,rtol=1e-10,atol=1e-12, equal_nan=False)\n",
    "    \n",
    "def test_equal2():\n",
    "    assert np.allclose(y_inter, y_inter_L,rtol=1e-10,atol=1e-12, equal_nan=False)\n",
    "    \n",
    "def test_equal3():\n",
    "    assert np.allclose(y_inter_sp, y_inter_L,rtol=1e-10,atol=1e-12, equal_nan=False)\n",
    "\n",
    "  \n",
    " #These two functions test if the values are equal to the pre-determined value \n",
    "\n",
    "def test_myAdder_1():\n",
    "    x_k = np.array([2,3,4,5,6])\n",
    "    y_k = np.array([2,5,5,5,6])\n",
    "    x = np.arange(2,6,0.01)\n",
    "\n",
    "    myResult = ip(x_k, y_k, x)[0]\n",
    "    correctResult = 2\n",
    "    \n",
    "    assert np.allclose(myResult, correctResult,\n",
    "                       rtol=1e-10,\n",
    "                       atol=1e-12,\n",
    "                       equal_nan=False)\n",
    "    \n",
    "def test_myAdder_2():\n",
    "    x_k = np.array([2,3,4,5,6])\n",
    "    y_k = np.array([2,5,5,5,6])\n",
    "    x = np.arange(2,6,0.01)\n",
    "\n",
    "    myResult = myLagrange(x_k, y_k, x)[0]\n",
    "    correctResult = 2\n",
    "    \n",
    "    assert np.allclose(myResult, correctResult,\n",
    "                       rtol=1e-10,\n",
    "                       atol=1e-12,\n",
    "                       equal_nan=False)"
   ]
  },
  {
   "cell_type": "markdown",
   "metadata": {},
   "source": [
    "### [Optional] Task 2.5\n",
    "\n",
    "Compare the execution timings from all three methods using IPython's $\\text{%timeit}$ magic command."
   ]
  },
  {
   "cell_type": "code",
   "execution_count": 9,
   "metadata": {},
   "outputs": [
    {
     "name": "stdout",
     "output_type": "stream",
     "text": [
      "288 µs ± 2.18 µs per loop (mean ± std. dev. of 7 runs, 1000 loops each)\n"
     ]
    }
   ],
   "source": [
    "%%timeit\n",
    "def poly(x, y):\n",
    "    vandermonde_matrix = np.vander(x)\n",
    "    vand_inv = np.linalg.inv(vandermonde_matrix)\n",
    "    poly_terms = np.dot(vand_inv, y)\n",
    "    return poly_terms\n",
    "    \n",
    "\n",
    "terms = poly(x,y)\n",
    "x_inter = np.linspace(2,6, 400)\n",
    "y_inter = np.sum([terms[i] * x_inter**(4-i) for i in range(5)], axis = 0)"
   ]
  },
  {
   "cell_type": "code",
   "execution_count": 10,
   "metadata": {},
   "outputs": [
    {
     "name": "stdout",
     "output_type": "stream",
     "text": [
      "467 µs ± 970 ns per loop (mean ± std. dev. of 7 runs, 1000 loops each)\n"
     ]
    }
   ],
   "source": [
    "%%timeit\n",
    "xk = np.array([2,3,4,5,6])\n",
    "yk = np.array([2,5,5,5,6])\n",
    "x_inter_L = np.linspace(2,6, 400)\n",
    "y_inter_L = myLagrange(xk, yk, x_inter_L)"
   ]
  },
  {
   "cell_type": "code",
   "execution_count": 11,
   "metadata": {},
   "outputs": [
    {
     "name": "stdout",
     "output_type": "stream",
     "text": [
      "2.2 ms ± 5.82 µs per loop (mean ± std. dev. of 7 runs, 100 loops each)\n"
     ]
    }
   ],
   "source": [
    "%%timeit\n",
    "y_inter_sp = interpolate.lagrange(xk, yk)(x_inter)\n",
    "\n"
   ]
  },
  {
   "cell_type": "markdown",
   "metadata": {},
   "source": [
    "### IPyTest example"
   ]
  },
  {
   "cell_type": "code",
   "execution_count": 12,
   "metadata": {},
   "outputs": [],
   "source": [
    "# load ipytest\n",
    "import ipytest\n",
    "ipytest.autoconfig()"
   ]
  },
  {
   "cell_type": "code",
   "execution_count": 13,
   "metadata": {},
   "outputs": [
    {
     "name": "stdout",
     "output_type": "stream",
     "text": [
      ".                                                                        [100%]\n",
      "1 passed in 0.05s\n"
     ]
    }
   ],
   "source": [
    "%%run_pytest[clean]\n",
    "\n",
    "# Note 1: Tests must be in a separate cell, starting with %%run_pytest.\n",
    "# Note 2: There cannot be any comments BEFORE the %%run_pytest !!\n",
    "\n",
    "def test_example():\n",
    "    assert [1, 2, 3] == [1, 2, 3]"
   ]
  },
  {
   "cell_type": "markdown",
   "metadata": {},
   "source": [
    "## 3. Runge's Phenomenom\n",
    "\n",
    "Use your own Lagrange interpolation routine to interpolate the function \n",
    "\n",
    "$$f(x) = \\frac{1}{1+25x^2}$$ \n",
    "\n",
    "between $x=-1$ and $x=+1$, using the $\\text{xk}$ below. Plot the results and briefly discuss their differences.\n",
    "\n",
    "### Task 3.1\n",
    "\n",
    "Use equidistant $x_k = \\frac{2k}{n} - 1$ with $k \\in \\{0, 1, \\dots, n  \\}$."
   ]
  },
  {
   "cell_type": "code",
   "execution_count": 14,
   "metadata": {},
   "outputs": [
    {
     "data": {
      "text/plain": [
       "Text(0, 0.5, 'y')"
      ]
     },
     "execution_count": 14,
     "metadata": {},
     "output_type": "execute_result"
    },
    {
     "data": {
      "image/png": "[encoded data removed]",
      "text/plain": [
       "<Figure size 432x288 with 1 Axes>"
      ]
     },
     "metadata": {
      "needs_background": "light"
     },
     "output_type": "display_data"
    }
   ],
   "source": [
    "n = 15\n",
    "xk = np.array([2*k/n - 1 for k in range(n+1)])\n",
    "yk = 1/(1+25*xk**2)\n",
    "\n",
    "x_inter_L = np.linspace(-1,1, 100)\n",
    "y_inter_L = myLagrange(xk, yk, x_inter_L)\n",
    "\n",
    "plt.plot(x_inter_L, y_inter_L, label = 'Interpolating polynomial')\n",
    "plt.scatter(xk,yk, label = 'Original Data', c ='red')\n",
    "plt.legend()\n",
    "plt.xlabel('x')\n",
    "plt.ylabel('y')\n"
   ]
  },
  {
   "cell_type": "markdown",
   "metadata": {},
   "source": [
    "### Task 3.2\n",
    "\n",
    "Use Chebychev nodes $x_k = \\operatorname{cos}\\left(\\frac{2k-1}{2n}\\pi \\right)$ with $k \\in \\{1, \\dots, n  \\}$."
   ]
  },
  {
   "cell_type": "code",
   "execution_count": 15,
   "metadata": {},
   "outputs": [
    {
     "data": {
      "text/plain": [
       "Text(0, 0.5, 'y')"
      ]
     },
     "execution_count": 15,
     "metadata": {},
     "output_type": "execute_result"
    },
    {
     "data": {
      "image/png": "[encoded data removed]",
      "text/plain": [
       "<Figure size 432x288 with 1 Axes>"
      ]
     },
     "metadata": {
      "needs_background": "light"
     },
     "output_type": "display_data"
    }
   ],
   "source": [
    "n = 15\n",
    "xk = np.array([np.cos((2*k-1)/(2*n)*np.pi) for k in range(1,n+1)])\n",
    "yk = 1/(1+25*xk**2)\n",
    "\n",
    "x_inter_L = np.linspace(-1,1, 100)\n",
    "y_inter_L = myLagrange(xk, yk, x_inter_L)\n",
    "\n",
    "plt.plot(x_inter_L, y_inter_L, label = 'Interpolating polynomial')\n",
    "plt.scatter(xk,yk, label = 'Original Data', c ='red')\n",
    "plt.legend()\n",
    "plt.xlabel('x')\n",
    "plt.ylabel('y')"
   ]
  },
  {
   "cell_type": "markdown",
   "metadata": {},
   "source": [
    "### Task 3.3\n",
    "\n",
    "Use $n$ randomly chosen points $x_k$."
   ]
  },
  {
   "cell_type": "code",
   "execution_count": 16,
   "metadata": {},
   "outputs": [
    {
     "data": {
      "text/plain": [
       "Text(0, 0.5, 'y')"
      ]
     },
     "execution_count": 16,
     "metadata": {},
     "output_type": "execute_result"
    },
    {
     "data": {
      "image/png": "[encoded data removed]",
      "text/plain": [
       "<Figure size 432x288 with 1 Axes>"
      ]
     },
     "metadata": {
      "needs_background": "light"
     },
     "output_type": "display_data"
    }
   ],
   "source": [
    "n = 15\n",
    "xk = np.random.rand(n)*2-1\n",
    "yk = 1/(1+25*xk**2)\n",
    "\n",
    "x_inter_L = np.linspace(-1,1, 100)\n",
    "y_inter_L = myLagrange(xk, yk, x_inter_L)\n",
    "\n",
    "plt.plot(x_inter_L, y_inter_L, label = 'Interpolating polynomial')\n",
    "plt.scatter(xk,yk, label = 'Original Data', c ='red')\n",
    "plt.legend()\n",
    "plt.xlabel('x')\n",
    "plt.ylabel('y')"
   ]
  },
  {
   "cell_type": "markdown",
   "metadata": {},
   "source": [
    "# Conclusion\n",
    "It is easy to see the difference between these three graphs. The first one grants a pretty decent fit at a low n value, but starts to behave worse at a high n value, as the polynomial value of the graph near -1 and 1 shoot to infinity. \n",
    "\n",
    "The third graph has the same problem, it almost never gives a good polynomial fit of the function at any n value. \n",
    "\n",
    "The second distribution of points works the best for all values of n. This makes it clear that the distribution of datapoints has a large contribution to the Lagrangian polynomial fit. "
   ]
  },
  {
   "cell_type": "markdown",
   "metadata": {},
   "source": [
    "# Weekly Reflection\n",
    "\n",
    "- How do you judge the level of the last lecture on a scale from 1 to 5?\n",
    "- with: 1: easy to follow, 3: OK to follow, 5: too complicated to follow"
   ]
  },
  {
   "cell_type": "raw",
   "metadata": {},
   "source": [
    "2 -- 2"
   ]
  },
  {
   "cell_type": "markdown",
   "metadata": {},
   "source": [
    "- How long did it take you to complete this assignment?"
   ]
  },
  {
   "cell_type": "raw",
   "metadata": {},
   "source": [
    "1 hour -- 2 hours"
   ]
  },
  {
   "cell_type": "markdown",
   "metadata": {},
   "source": [
    "- How hard was it to finish this assignment on a scale from 1 to 5?\n",
    "- with: 1: easy / no help needed, 3: could solve with guidance, 5: could not solve it"
   ]
  },
  {
   "cell_type": "raw",
   "metadata": {},
   "source": [
    "2 -- 2"
   ]
  }
 ],
 "metadata": {
  "kernelspec": {
   "display_name": "Python 3",
   "language": "python",
   "name": "python3"
  },
  "language_info": {
   "codemirror_mode": {
    "name": "ipython",
    "version": 3
   },
   "file_extension": ".py",
   "mimetype": "text/x-python",
   "name": "python",
   "nbconvert_exporter": "python",
   "pygments_lexer": "ipython3",
   "version": "3.7.6"
  }
 },
 "nbformat": 4,
 "nbformat_minor": 4
}
